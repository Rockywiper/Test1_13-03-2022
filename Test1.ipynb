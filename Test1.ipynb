{
 "cells": [
  {
   "cell_type": "markdown",
   "id": "df3bf391",
   "metadata": {},
   "source": [
    "### 1.\tCreate a program that asks the user to enter their name and their age. Print out a message that tells them the year that they will turn 100 years old"
   ]
  },
  {
   "cell_type": "code",
   "execution_count": 5,
   "id": "717df860",
   "metadata": {},
   "outputs": [
    {
     "name": "stdout",
     "output_type": "stream",
     "text": [
      "Enter the name:Prasanth\n",
      "Enter the age:21\n",
      "You still not completed a century\n"
     ]
    }
   ],
   "source": [
    "Name = str(input('Enter the name:'))\n",
    "Age = int(input('Enter the age:'))\n",
    "if Age == 100:\n",
    "    print('Congragulations you completed a century')\n",
    "else:\n",
    "    print('You still not completed a century')\n",
    "        "
   ]
  },
  {
   "cell_type": "markdown",
   "id": "5fbe52e1",
   "metadata": {},
   "source": [
    "### 2.\tWhat is pandas groupby? Demonstrate with your own example"
   ]
  },
  {
   "cell_type": "code",
   "execution_count": 16,
   "id": "435f0425",
   "metadata": {},
   "outputs": [],
   "source": [
    "import numpy as np\n",
    "import pandas as pd"
   ]
  },
  {
   "cell_type": "code",
   "execution_count": 18,
   "id": "6e5cd2e9",
   "metadata": {},
   "outputs": [
    {
     "data": {
      "text/html": [
       "<div>\n",
       "<style scoped>\n",
       "    .dataframe tbody tr th:only-of-type {\n",
       "        vertical-align: middle;\n",
       "    }\n",
       "\n",
       "    .dataframe tbody tr th {\n",
       "        vertical-align: top;\n",
       "    }\n",
       "\n",
       "    .dataframe thead th {\n",
       "        text-align: right;\n",
       "    }\n",
       "</style>\n",
       "<table border=\"1\" class=\"dataframe\">\n",
       "  <thead>\n",
       "    <tr style=\"text-align: right;\">\n",
       "      <th></th>\n",
       "      <th>Name</th>\n",
       "      <th>Age</th>\n",
       "      <th>College</th>\n",
       "    </tr>\n",
       "  </thead>\n",
       "  <tbody>\n",
       "    <tr>\n",
       "      <th>0</th>\n",
       "      <td>Prasanth</td>\n",
       "      <td>21</td>\n",
       "      <td>Thangavelu</td>\n",
       "    </tr>\n",
       "    <tr>\n",
       "      <th>1</th>\n",
       "      <td>Samson</td>\n",
       "      <td>21</td>\n",
       "      <td>Pachayappas</td>\n",
       "    </tr>\n",
       "    <tr>\n",
       "      <th>2</th>\n",
       "      <td>Raghul</td>\n",
       "      <td>21</td>\n",
       "      <td>Madras university</td>\n",
       "    </tr>\n",
       "  </tbody>\n",
       "</table>\n",
       "</div>"
      ],
      "text/plain": [
       "       Name  Age            College\n",
       "0  Prasanth   21         Thangavelu\n",
       "1    Samson   21        Pachayappas\n",
       "2    Raghul   21  Madras university"
      ]
     },
     "execution_count": 18,
     "metadata": {},
     "output_type": "execute_result"
    }
   ],
   "source": [
    "list1 = pd.DataFrame({'Name': ['Prasanth', 'Samson', 'Raghul'], 'Age': [21, 21, 21], 'College': ['Thangavelu', 'Pachayappas', 'Madras university']})\n",
    "list1"
   ]
  },
  {
   "cell_type": "code",
   "execution_count": 143,
   "id": "30f8c104",
   "metadata": {},
   "outputs": [
    {
     "data": {
      "text/html": [
       "<div>\n",
       "<style scoped>\n",
       "    .dataframe tbody tr th:only-of-type {\n",
       "        vertical-align: middle;\n",
       "    }\n",
       "\n",
       "    .dataframe tbody tr th {\n",
       "        vertical-align: top;\n",
       "    }\n",
       "\n",
       "    .dataframe thead th {\n",
       "        text-align: right;\n",
       "    }\n",
       "</style>\n",
       "<table border=\"1\" class=\"dataframe\">\n",
       "  <thead>\n",
       "    <tr style=\"text-align: right;\">\n",
       "      <th></th>\n",
       "      <th>Id</th>\n",
       "      <th>Age</th>\n",
       "      <th>College studying</th>\n",
       "    </tr>\n",
       "  </thead>\n",
       "  <tbody>\n",
       "    <tr>\n",
       "      <th>1</th>\n",
       "      <td>Prasanth</td>\n",
       "      <td>21</td>\n",
       "      <td>Thangavelu</td>\n",
       "    </tr>\n",
       "    <tr>\n",
       "      <th>2</th>\n",
       "      <td>Samson</td>\n",
       "      <td>21</td>\n",
       "      <td>Pachayappas</td>\n",
       "    </tr>\n",
       "    <tr>\n",
       "      <th>3</th>\n",
       "      <td>Raghul</td>\n",
       "      <td>21</td>\n",
       "      <td>Madras university</td>\n",
       "    </tr>\n",
       "  </tbody>\n",
       "</table>\n",
       "</div>"
      ],
      "text/plain": [
       "         Id  Age   College studying\n",
       "1  Prasanth   21         Thangavelu\n",
       "2    Samson   21        Pachayappas\n",
       "3    Raghul   21  Madras university"
      ]
     },
     "execution_count": 143,
     "metadata": {},
     "output_type": "execute_result"
    }
   ],
   "source": [
    "list1.rename(columns = {'Name': 'Id', 'Age': 'Age', 'College': 'College studying'})"
   ]
  },
  {
   "cell_type": "markdown",
   "id": "71a076a2",
   "metadata": {},
   "source": [
    "### 3.\tHow to create a dataframe from list?"
   ]
  },
  {
   "cell_type": "code",
   "execution_count": 30,
   "id": "4ce8c7c5",
   "metadata": {},
   "outputs": [
    {
     "data": {
      "text/html": [
       "<div>\n",
       "<style scoped>\n",
       "    .dataframe tbody tr th:only-of-type {\n",
       "        vertical-align: middle;\n",
       "    }\n",
       "\n",
       "    .dataframe tbody tr th {\n",
       "        vertical-align: top;\n",
       "    }\n",
       "\n",
       "    .dataframe thead th {\n",
       "        text-align: right;\n",
       "    }\n",
       "</style>\n",
       "<table border=\"1\" class=\"dataframe\">\n",
       "  <thead>\n",
       "    <tr style=\"text-align: right;\">\n",
       "      <th></th>\n",
       "      <th>column 1</th>\n",
       "      <th>column 2</th>\n",
       "      <th>column 3</th>\n",
       "    </tr>\n",
       "  </thead>\n",
       "  <tbody>\n",
       "    <tr>\n",
       "      <th>0</th>\n",
       "      <td>Name</td>\n",
       "      <td>Prasanth</td>\n",
       "      <td>13.0</td>\n",
       "    </tr>\n",
       "    <tr>\n",
       "      <th>1</th>\n",
       "      <td>Dept</td>\n",
       "      <td>ECE</td>\n",
       "      <td>12.0</td>\n",
       "    </tr>\n",
       "    <tr>\n",
       "      <th>2</th>\n",
       "      <td>Age</td>\n",
       "      <td>21</td>\n",
       "      <td>NaN</td>\n",
       "    </tr>\n",
       "  </tbody>\n",
       "</table>\n",
       "</div>"
      ],
      "text/plain": [
       "  column 1  column 2  column 3\n",
       "0     Name  Prasanth      13.0\n",
       "1     Dept       ECE      12.0\n",
       "2      Age        21       NaN"
      ]
     },
     "execution_count": 30,
     "metadata": {},
     "output_type": "execute_result"
    }
   ],
   "source": [
    "list2 = [['Name','Prasanth',13],['Dept','ECE',12],['Age',21]]\n",
    "pd.DataFrame(list2, columns = ['column 1','column 2','column 3'])\n"
   ]
  },
  {
   "cell_type": "markdown",
   "id": "4e7321ef",
   "metadata": {},
   "source": [
    "### 4.\tWhat are the ways to combine the dataframe in pandas. Give an example for each"
   ]
  },
  {
   "cell_type": "code",
   "execution_count": 47,
   "id": "aadb9055",
   "metadata": {},
   "outputs": [
    {
     "data": {
      "text/html": [
       "<div>\n",
       "<style scoped>\n",
       "    .dataframe tbody tr th:only-of-type {\n",
       "        vertical-align: middle;\n",
       "    }\n",
       "\n",
       "    .dataframe tbody tr th {\n",
       "        vertical-align: top;\n",
       "    }\n",
       "\n",
       "    .dataframe thead th {\n",
       "        text-align: right;\n",
       "    }\n",
       "</style>\n",
       "<table border=\"1\" class=\"dataframe\">\n",
       "  <thead>\n",
       "    <tr style=\"text-align: right;\">\n",
       "      <th></th>\n",
       "      <th>Name_x</th>\n",
       "      <th>Age</th>\n",
       "      <th>College_x</th>\n",
       "      <th>Name_y</th>\n",
       "      <th>College_y</th>\n",
       "    </tr>\n",
       "  </thead>\n",
       "  <tbody>\n",
       "    <tr>\n",
       "      <th>0</th>\n",
       "      <td>Prasanth</td>\n",
       "      <td>21</td>\n",
       "      <td>Thangavelu</td>\n",
       "      <td>Saran</td>\n",
       "      <td>Thangavelu</td>\n",
       "    </tr>\n",
       "    <tr>\n",
       "      <th>1</th>\n",
       "      <td>Prasanth</td>\n",
       "      <td>21</td>\n",
       "      <td>Thangavelu</td>\n",
       "      <td>Subash</td>\n",
       "      <td>Patrision</td>\n",
       "    </tr>\n",
       "    <tr>\n",
       "      <th>2</th>\n",
       "      <td>Prasanth</td>\n",
       "      <td>21</td>\n",
       "      <td>Thangavelu</td>\n",
       "      <td>Ram</td>\n",
       "      <td>M.G.R university</td>\n",
       "    </tr>\n",
       "    <tr>\n",
       "      <th>3</th>\n",
       "      <td>Samson</td>\n",
       "      <td>21</td>\n",
       "      <td>Pachayappas</td>\n",
       "      <td>Saran</td>\n",
       "      <td>Thangavelu</td>\n",
       "    </tr>\n",
       "    <tr>\n",
       "      <th>4</th>\n",
       "      <td>Samson</td>\n",
       "      <td>21</td>\n",
       "      <td>Pachayappas</td>\n",
       "      <td>Subash</td>\n",
       "      <td>Patrision</td>\n",
       "    </tr>\n",
       "    <tr>\n",
       "      <th>5</th>\n",
       "      <td>Samson</td>\n",
       "      <td>21</td>\n",
       "      <td>Pachayappas</td>\n",
       "      <td>Ram</td>\n",
       "      <td>M.G.R university</td>\n",
       "    </tr>\n",
       "    <tr>\n",
       "      <th>6</th>\n",
       "      <td>Raghul</td>\n",
       "      <td>21</td>\n",
       "      <td>Madras university</td>\n",
       "      <td>Saran</td>\n",
       "      <td>Thangavelu</td>\n",
       "    </tr>\n",
       "    <tr>\n",
       "      <th>7</th>\n",
       "      <td>Raghul</td>\n",
       "      <td>21</td>\n",
       "      <td>Madras university</td>\n",
       "      <td>Subash</td>\n",
       "      <td>Patrision</td>\n",
       "    </tr>\n",
       "    <tr>\n",
       "      <th>8</th>\n",
       "      <td>Raghul</td>\n",
       "      <td>21</td>\n",
       "      <td>Madras university</td>\n",
       "      <td>Ram</td>\n",
       "      <td>M.G.R university</td>\n",
       "    </tr>\n",
       "  </tbody>\n",
       "</table>\n",
       "</div>"
      ],
      "text/plain": [
       "     Name_x  Age          College_x  Name_y         College_y\n",
       "0  Prasanth   21         Thangavelu   Saran        Thangavelu\n",
       "1  Prasanth   21         Thangavelu  Subash         Patrision\n",
       "2  Prasanth   21         Thangavelu     Ram  M.G.R university\n",
       "3    Samson   21        Pachayappas   Saran        Thangavelu\n",
       "4    Samson   21        Pachayappas  Subash         Patrision\n",
       "5    Samson   21        Pachayappas     Ram  M.G.R university\n",
       "6    Raghul   21  Madras university   Saran        Thangavelu\n",
       "7    Raghul   21  Madras university  Subash         Patrision\n",
       "8    Raghul   21  Madras university     Ram  M.G.R university"
      ]
     },
     "execution_count": 47,
     "metadata": {},
     "output_type": "execute_result"
    }
   ],
   "source": [
    "list1 = pd.DataFrame({'Name': ['Prasanth', 'Samson', 'Raghul'], 'Age': [21, 21, 21], 'College': ['Thangavelu', 'Pachayappas', 'Madras university']})\n",
    "list2 = pd.DataFrame({'Name': ['Saran', 'Subash', 'Ram'], 'Age': [21, 21, 21], 'College': ['Thangavelu', 'Patrision', 'M.G.R university']})\n",
    "concatenation = pd.concat([list1, list2])\n",
    "merging = pd.merge(list1, list2, on = 'Age')\n",
    "concatenation\n",
    "merging\n"
   ]
  },
  {
   "cell_type": "markdown",
   "id": "41733787",
   "metadata": {},
   "source": [
    "### 5.\tWhat is the difference between list and tuples in Python?"
   ]
  },
  {
   "cell_type": "code",
   "execution_count": 48,
   "id": "b1dea13c",
   "metadata": {},
   "outputs": [],
   "source": [
    "# list is mutable but tuple is immutable\n",
    "# list can be assigned with[], tuple can be assigned with ()\n",
    "# mostly list is used in various situations and tuple can be used in some security situations"
   ]
  },
  {
   "cell_type": "markdown",
   "id": "df69cdd9",
   "metadata": {},
   "source": [
    "### 6.\tFind out the mean, median and standard deviation of this numpy array -> np.array([1,5,3,100,4,48])"
   ]
  },
  {
   "cell_type": "code",
   "execution_count": 67,
   "id": "2821e833",
   "metadata": {},
   "outputs": [
    {
     "data": {
      "text/plain": [
       "26.833333333333332"
      ]
     },
     "execution_count": 67,
     "metadata": {},
     "output_type": "execute_result"
    }
   ],
   "source": [
    "array = np.array([1, 5, 3, 100, 4, 48])\n",
    "a = np.mean(array)\n",
    "a"
   ]
  },
  {
   "cell_type": "code",
   "execution_count": 66,
   "id": "ed21b4b8",
   "metadata": {},
   "outputs": [
    {
     "data": {
      "text/plain": [
       "4.5"
      ]
     },
     "execution_count": 66,
     "metadata": {},
     "output_type": "execute_result"
    }
   ],
   "source": [
    "b = np.median(array)\n",
    "b"
   ]
  },
  {
   "cell_type": "code",
   "execution_count": 68,
   "id": "99b1893e",
   "metadata": {},
   "outputs": [
    {
     "data": {
      "text/plain": [
       "36.59424666377065"
      ]
     },
     "execution_count": 68,
     "metadata": {},
     "output_type": "execute_result"
    }
   ],
   "source": [
    "c = np.std(array)\n",
    "c"
   ]
  },
  {
   "cell_type": "markdown",
   "id": "d2e6aa65",
   "metadata": {},
   "source": [
    "### 7.\tHow will you remove duplicate elements from a list?"
   ]
  },
  {
   "cell_type": "code",
   "execution_count": 105,
   "id": "d474ae58",
   "metadata": {},
   "outputs": [
    {
     "name": "stdout",
     "output_type": "stream",
     "text": [
      "5\n",
      "6\n"
     ]
    }
   ],
   "source": [
    "list1 = [1, 2, 3, 4, 5, 5, 6, 6, 7]\n",
    "\n",
    "for i in range(0, len(list1)):\n",
    "    for j in range(i+1, len(list1)):\n",
    "        if list1[i] == list1[j]:\n",
    "            print(list1[j])\n",
    "            "
   ]
  },
  {
   "cell_type": "markdown",
   "id": "91c11a2c",
   "metadata": {},
   "source": [
    "### 8.\tWhat is a map() function in Python? Give an example"
   ]
  },
  {
   "cell_type": "code",
   "execution_count": null,
   "id": "32666d02",
   "metadata": {},
   "outputs": [],
   "source": [
    "# Map() function can check the values for the given condition and tells it is True or False for a given condition \n",
    "# It can also operate the given condition and prints the value "
   ]
  },
  {
   "cell_type": "code",
   "execution_count": 114,
   "id": "70ccc00f",
   "metadata": {},
   "outputs": [
    {
     "name": "stdout",
     "output_type": "stream",
     "text": [
      "[True, False, True, False, False, True, True]\n"
     ]
    }
   ],
   "source": [
    "list2 = [22, 33, 32, 45, 87, 82, 84]\n",
    "\n",
    "new_list = list(map(lambda x: x%2 == 0, list2))\n",
    "print(new_list)\n"
   ]
  },
  {
   "cell_type": "markdown",
   "id": "439152b9",
   "metadata": {},
   "source": [
    "### 9.\tWhat is pass in Python?"
   ]
  },
  {
   "cell_type": "code",
   "execution_count": 129,
   "id": "e67077ad",
   "metadata": {},
   "outputs": [],
   "source": [
    "# pass can be used instead of a statement under a condition if we didn't wanted to print any statement for a condition so it will not show an error\n",
    "\n",
    "a = 10\n",
    "if a%2 == 0:\n",
    "    pass\n",
    "else:\n",
    "    print('It is odd number')"
   ]
  },
  {
   "cell_type": "markdown",
   "id": "13b2ef04",
   "metadata": {},
   "source": [
    "### 10.\tWhat is vstack() in numpy? Give an example"
   ]
  },
  {
   "cell_type": "code",
   "execution_count": 137,
   "id": "4ae50084",
   "metadata": {},
   "outputs": [
    {
     "data": {
      "text/plain": [
       "array([[1, 2, 3],\n",
       "       [2, 3, 3],\n",
       "       [8, 4, 3],\n",
       "       [2, 5, 5]])"
      ]
     },
     "execution_count": 137,
     "metadata": {},
     "output_type": "execute_result"
    }
   ],
   "source": [
    "# vstack() can be used to stack the array in vertical order\n",
    "\n",
    "a = np.array([[1, 2, 3], [2, 3, 3]])\n",
    "b = np.array([[8, 4, 3], [2, 5, 5]])\n",
    "c = np.vstack((a, b))\n",
    "c"
   ]
  },
  {
   "cell_type": "code",
   "execution_count": null,
   "id": "5cff4bee",
   "metadata": {},
   "outputs": [],
   "source": []
  }
 ],
 "metadata": {
  "kernelspec": {
   "display_name": "Python 3 (ipykernel)",
   "language": "python",
   "name": "python3"
  },
  "language_info": {
   "codemirror_mode": {
    "name": "ipython",
    "version": 3
   },
   "file_extension": ".py",
   "mimetype": "text/x-python",
   "name": "python",
   "nbconvert_exporter": "python",
   "pygments_lexer": "ipython3",
   "version": "3.9.7"
  }
 },
 "nbformat": 4,
 "nbformat_minor": 5
}
